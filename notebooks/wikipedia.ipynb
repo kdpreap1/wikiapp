{
 "cells": [
  {
   "cell_type": "markdown",
   "id": "c18bc1b0-1cd0-45e8-b1d7-5d5deae6c85f",
   "metadata": {},
   "source": [
    "---\n",
    "title: Wikipedia Module\n",
    "---"
   ]
  },
  {
   "cell_type": "code",
   "execution_count": 5,
   "id": "6446c98d-1ad9-4b25-b515-b4f8d87d5e97",
   "metadata": {},
   "outputs": [],
   "source": [
    "from wikiapp.wikipedia import random_page, Page"
   ]
  },
  {
   "cell_type": "code",
   "execution_count": 6,
   "id": "947ee685-519e-42db-a6a2-5a919cc81eb1",
   "metadata": {},
   "outputs": [],
   "source": [
    "from nbdev import show_doc"
   ]
  },
  {
   "cell_type": "code",
   "execution_count": 7,
   "id": "767527f8-2a46-492d-9336-7bd70cef6f57",
   "metadata": {},
   "outputs": [
    {
     "data": {
      "text/markdown": [
       "---\n",
       "\n",
       "### Page\n",
       "\n",
       ">      Page (title:str, extract:str)\n",
       "\n",
       "*A Page Dataclass to represent the retuen value from wikipedia*"
      ],
      "text/plain": [
       "---\n",
       "\n",
       "### Page\n",
       "\n",
       ">      Page (title:str, extract:str)\n",
       "\n",
       "*A Page Dataclass to represent the retuen value from wikipedia*"
      ]
     },
     "execution_count": 7,
     "metadata": {},
     "output_type": "execute_result"
    }
   ],
   "source": [
    "show_doc(Page)"
   ]
  },
  {
   "cell_type": "code",
   "execution_count": 8,
   "id": "acd89807-ea04-4f26-a2f8-a2de2d0e8dc0",
   "metadata": {},
   "outputs": [
    {
     "data": {
      "text/markdown": [
       "---\n",
       "\n",
       "### random_page\n",
       "\n",
       ">      random_page (language:str='en')\n",
       "\n",
       "*Get a random page from Wikipedia.*\n",
       "\n",
       "|    | **Type** | **Default** | **Details** |\n",
       "| -- | -------- | ----------- | ----------- |\n",
       "| language | str | en | The language you want to use, as a two character string |\n",
       "| **Returns** | **Page** |  | **Returns a Page Object** |"
      ],
      "text/plain": [
       "---\n",
       "\n",
       "### random_page\n",
       "\n",
       ">      random_page (language:str='en')\n",
       "\n",
       "*Get a random page from Wikipedia.*\n",
       "\n",
       "|    | **Type** | **Default** | **Details** |\n",
       "| -- | -------- | ----------- | ----------- |\n",
       "| language | str | en | The language you want to use, as a two character string |\n",
       "| **Returns** | **Page** |  | **Returns a Page Object** |"
      ]
     },
     "execution_count": 8,
     "metadata": {},
     "output_type": "execute_result"
    }
   ],
   "source": [
    "show_doc(random_page)"
   ]
  },
  {
   "cell_type": "markdown",
   "id": "a3d29eeb-cf49-47be-9687-3722d8d5aa19",
   "metadata": {},
   "source": [
    "## Examples"
   ]
  },
  {
   "cell_type": "code",
   "execution_count": 10,
   "id": "98ba1a7d-8868-487a-97dd-8358de6b6190",
   "metadata": {},
   "outputs": [
    {
     "name": "stdout",
     "output_type": "stream",
     "text": [
      "TITLE Chur–Rorschach railway line\n",
      "EXTRACT The Chur–Rorschach railway line, also called the Rhine Valley line, is a standard gauge railway line in Switzerland. It belongs to the Swiss Federal Railways (SBB) and is located in the cantons of St. Gallen and the Grisons.\n"
     ]
    }
   ],
   "source": [
    "page = random_page()\n",
    "print(\"TITLE\", page.title)\n",
    "print(\"EXTRACT\", page.extract)"
   ]
  },
  {
   "cell_type": "markdown",
   "id": "276ff298-153d-41e9-8e53-762712575c8b",
   "metadata": {},
   "source": [
    "If you do this again, you will get another random page:"
   ]
  },
  {
   "cell_type": "code",
   "execution_count": 11,
   "id": "f54a2548-4083-404e-958e-0f69891b53fb",
   "metadata": {},
   "outputs": [
    {
     "name": "stdout",
     "output_type": "stream",
     "text": [
      "TITLE Lower Macungie Township, Pennsylvania\n",
      "EXTRACT Lower Macungie Township is a township in Lehigh County, Pennsylvania, United States. The township's population was 31,964 as of the 2020 census, making it the second-largest population center in Lehigh County after Allentown and the third-largest population center in the Lehigh Valley metropolitan area after Allentown and Bethlehem.\n"
     ]
    }
   ],
   "source": [
    "page = random_page()\n",
    "print(\"TITLE\", page.title)\n",
    "print(\"EXTRACT\", page.extract)"
   ]
  },
  {
   "cell_type": "markdown",
   "id": "127276aa-881b-462f-94d7-0e20d5a20954",
   "metadata": {},
   "source": [
    "You can change the language you want:"
   ]
  },
  {
   "cell_type": "code",
   "execution_count": 12,
   "id": "86c9cd27-bfb5-4e7e-bc07-a2eb809b451a",
   "metadata": {},
   "outputs": [
    {
     "name": "stdout",
     "output_type": "stream",
     "text": [
      "TITLE Régis Lespinas\n",
      "EXTRACT Régis Lespinas, né le 6 octobre 1984 à Brive-la-Gaillarde (Corrèze), est un joueur français de rugby à XV. Il évolue au poste de demi d'ouverture ou d'arrière.\n"
     ]
    }
   ],
   "source": [
    "page = random_page(language=\"fr\")\n",
    "print(\"TITLE\", page.title)\n",
    "print(\"EXTRACT\", page.extract)"
   ]
  }
 ],
 "metadata": {
  "kernelspec": {
   "display_name": "Python 3 (ipykernel)",
   "language": "python",
   "name": "python3"
  },
  "language_info": {
   "codemirror_mode": {
    "name": "ipython",
    "version": 3
   },
   "file_extension": ".py",
   "mimetype": "text/x-python",
   "name": "python",
   "nbconvert_exporter": "python",
   "pygments_lexer": "ipython3",
   "version": "3.12.3"
  }
 },
 "nbformat": 4,
 "nbformat_minor": 5
}
